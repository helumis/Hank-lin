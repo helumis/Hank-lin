{
  "nbformat": 4,
  "nbformat_minor": 0,
  "metadata": {
    "colab": {
      "name": "0608.ipynb",
      "provenance": [],
      "authorship_tag": "ABX9TyONv+3b4q9TiWCGAatZWoi/",
      "include_colab_link": true
    },
    "kernelspec": {
      "name": "python3",
      "display_name": "Python 3"
    },
    "language_info": {
      "name": "python"
    }
  },
  "cells": [
    {
      "cell_type": "markdown",
      "metadata": {
        "id": "view-in-github",
        "colab_type": "text"
      },
      "source": [
        "<a href=\"https://colab.research.google.com/github/helumis/Hank-lin/blob/master/0608.ipynb\" target=\"_parent\"><img src=\"https://colab.research.google.com/assets/colab-badge.svg\" alt=\"Open In Colab\"/></a>"
      ]
    },
    {
      "cell_type": "code",
      "execution_count": 7,
      "metadata": {
        "colab": {
          "base_uri": "https://localhost:8080/"
        },
        "id": "Hw5MEou4rgt2",
        "outputId": "ca63255c-a5c8-4f95-d7ff-5eed1eb45ad3"
      },
      "outputs": [
        {
          "output_type": "execute_result",
          "data": {
            "text/plain": [
              "[1, 2, 3, 4]"
            ]
          },
          "metadata": {},
          "execution_count": 7
        }
      ],
      "source": [
        "l1=[1,2,3,4]\n",
        "l1\n"
      ]
    },
    {
      "cell_type": "code",
      "source": [
        "l2=['香蕉','蘋果','橘子']\n",
        "l2"
      ],
      "metadata": {
        "colab": {
          "base_uri": "https://localhost:8080/"
        },
        "id": "tVIoJRxKtbMf",
        "outputId": "b7d373ca-3160-444f-dcbb-e891e1215a32"
      },
      "execution_count": 2,
      "outputs": [
        {
          "output_type": "execute_result",
          "data": {
            "text/plain": [
              "['香蕉', '蘋果', '橘子']"
            ]
          },
          "metadata": {},
          "execution_count": 2
        }
      ]
    },
    {
      "cell_type": "code",
      "source": [
        "l3=[1,'香蕉',True]\n",
        "l3"
      ],
      "metadata": {
        "colab": {
          "base_uri": "https://localhost:8080/"
        },
        "id": "p6zxkdyxt16z",
        "outputId": "af2af966-c47b-422d-b84f-cc35b65fa677"
      },
      "execution_count": 3,
      "outputs": [
        {
          "output_type": "execute_result",
          "data": {
            "text/plain": [
              "[1, '香蕉', True]"
            ]
          },
          "metadata": {},
          "execution_count": 3
        }
      ]
    },
    {
      "cell_type": "code",
      "source": [
        "l4=[]\n",
        "l4"
      ],
      "metadata": {
        "colab": {
          "base_uri": "https://localhost:8080/"
        },
        "id": "3NI3gbAcuEzV",
        "outputId": "1cb62b0c-e5ae-49ad-e5b2-41bfcd25ccac"
      },
      "execution_count": 4,
      "outputs": [
        {
          "output_type": "execute_result",
          "data": {
            "text/plain": [
              "[]"
            ]
          },
          "metadata": {},
          "execution_count": 4
        }
      ]
    },
    {
      "cell_type": "code",
      "source": [
        "l1=[1,2,3,4]\n",
        "print(l1)\n",
        "print(l1[0])\n",
        "print(l1[1])\n",
        "print(l1[2])\n",
        "print(l1[3])\n"
      ],
      "metadata": {
        "colab": {
          "base_uri": "https://localhost:8080/"
        },
        "id": "f2yWjw5UuK-t",
        "outputId": "0531a2d7-ac6d-436c-fc7c-3eb08ac34cff"
      },
      "execution_count": 6,
      "outputs": [
        {
          "output_type": "stream",
          "name": "stdout",
          "text": [
            "[1, 2, 3, 4]\n",
            "1\n",
            "2\n",
            "3\n",
            "4\n"
          ]
        }
      ]
    },
    {
      "cell_type": "code",
      "source": [
        "print(l1[4])"
      ],
      "metadata": {
        "colab": {
          "base_uri": "https://localhost:8080/",
          "height": 167
        },
        "id": "8dRDoFH2vkbI",
        "outputId": "41ee4c28-4c86-4288-ef3a-44d9ccedac1d"
      },
      "execution_count": 8,
      "outputs": [
        {
          "output_type": "error",
          "ename": "IndexError",
          "evalue": "ignored",
          "traceback": [
            "\u001b[0;31m---------------------------------------------------------------------------\u001b[0m",
            "\u001b[0;31mIndexError\u001b[0m                                Traceback (most recent call last)",
            "\u001b[0;32m<ipython-input-8-5050e72b8df5>\u001b[0m in \u001b[0;36m<module>\u001b[0;34m()\u001b[0m\n\u001b[0;32m----> 1\u001b[0;31m \u001b[0mprint\u001b[0m\u001b[0;34m(\u001b[0m\u001b[0ml1\u001b[0m\u001b[0;34m[\u001b[0m\u001b[0;36m4\u001b[0m\u001b[0;34m]\u001b[0m\u001b[0;34m)\u001b[0m\u001b[0;34m\u001b[0m\u001b[0;34m\u001b[0m\u001b[0m\n\u001b[0m",
            "\u001b[0;31mIndexError\u001b[0m: list index out of range"
          ]
        }
      ]
    },
    {
      "cell_type": "code",
      "source": [
        "l4=['香蕉','蘋果','橘子']"
      ],
      "metadata": {
        "id": "EjG1jA2Uvm9y"
      },
      "execution_count": 20,
      "outputs": []
    },
    {
      "cell_type": "code",
      "source": [
        "print(l4[0])\n",
        "print(l4[1])\n",
        "print(l4[2])"
      ],
      "metadata": {
        "colab": {
          "base_uri": "https://localhost:8080/"
        },
        "id": "oFCy4QbExKWl",
        "outputId": "fe0c6f88-797f-45b0-b722-61a398122354"
      },
      "execution_count": 24,
      "outputs": [
        {
          "output_type": "stream",
          "name": "stdout",
          "text": [
            "香蕉\n",
            "蘋果\n",
            "橘子\n"
          ]
        }
      ]
    },
    {
      "cell_type": "code",
      "source": [
        "print(l4[-1])\n",
        "print(l4[-2])\n",
        "print(l4[-3])"
      ],
      "metadata": {
        "colab": {
          "base_uri": "https://localhost:8080/"
        },
        "id": "CvayS2OIxCIA",
        "outputId": "cb2ac95e-53df-45e2-9588-0e93f91f7d24"
      },
      "execution_count": 22,
      "outputs": [
        {
          "output_type": "stream",
          "name": "stdout",
          "text": [
            "橘子\n",
            "蘋果\n",
            "香蕉\n"
          ]
        }
      ]
    },
    {
      "cell_type": "code",
      "source": [
        "l5=[['tom','1234']],['mary','abcd'],['david','5678']\n",
        "print(l5[1])\n",
        "print(l5[0])\n",
        "print(l5[1][1])\n",
        "print(l5[0])\n",
        "print(l5[0][0])\n",
        "print(l5[0][0])\n",
        "print(l5[1][0])"
      ],
      "metadata": {
        "colab": {
          "base_uri": "https://localhost:8080/"
        },
        "id": "Nh2lygssxipq",
        "outputId": "4952e922-3ca9-49c1-a475-40cc9391d3c9"
      },
      "execution_count": 27,
      "outputs": [
        {
          "output_type": "stream",
          "name": "stdout",
          "text": [
            "['mary', 'abcd']\n",
            "[['tom', '1234']]\n",
            "abcd\n",
            "[['tom', '1234']]\n",
            "['tom', '1234']\n",
            "['tom', '1234']\n",
            "mary\n"
          ]
        }
      ]
    },
    {
      "cell_type": "code",
      "source": [
        "s=[85,79,93]\n",
        "print('國文成績: %d分' % s[0])\n",
        "print('數學成績: %d分' % s[1])\n",
        "print('英文成績: %d分' % s[2])"
      ],
      "metadata": {
        "colab": {
          "base_uri": "https://localhost:8080/"
        },
        "id": "Fa6AyJPo0g7s",
        "outputId": "dd161181-4222-4a2d-b52b-2bbb53431045"
      },
      "execution_count": 29,
      "outputs": [
        {
          "output_type": "stream",
          "name": "stdout",
          "text": [
            "國文成績: 85分\n",
            "數學成績: 79分\n",
            "英文成績: 93分\n"
          ]
        }
      ]
    },
    {
      "cell_type": "code",
      "source": [
        "l6=[1,2,3,4,5]\n",
        "print(l6)\n",
        "l6[0]=9\n",
        "print(l6[0])\n",
        "print(l6)"
      ],
      "metadata": {
        "colab": {
          "base_uri": "https://localhost:8080/"
        },
        "id": "-9lnsJRo1tHf",
        "outputId": "58626b88-33c0-47f0-d38b-30d2b9e66fad"
      },
      "execution_count": 32,
      "outputs": [
        {
          "output_type": "stream",
          "name": "stdout",
          "text": [
            "[1, 2, 3, 4, 5]\n",
            "9\n",
            "[9, 2, 3, 4, 5]\n"
          ]
        }
      ]
    },
    {
      "cell_type": "code",
      "source": [
        "l7=['香蕉','蘋果','橘子']\n",
        "print(l7)\n",
        "for s in l7 :\n",
        "  print(s,end=',')"
      ],
      "metadata": {
        "colab": {
          "base_uri": "https://localhost:8080/"
        },
        "id": "c_QO-DuJ2T2b",
        "outputId": "d6e83715-dbf8-4f08-ed3f-cc9e4df02fef"
      },
      "execution_count": 33,
      "outputs": [
        {
          "output_type": "stream",
          "name": "stdout",
          "text": [
            "['香蕉', '蘋果', '橘子']\n",
            "香蕉,蘋果,橘子,"
          ]
        }
      ]
    },
    {
      "cell_type": "code",
      "source": [
        "s=[85,79,93,50]\n",
        "print(len(s))"
      ],
      "metadata": {
        "colab": {
          "base_uri": "https://localhost:8080/"
        },
        "id": "0nuRZmGc2n-n",
        "outputId": "e7bc6c10-eb07-4098-c64d-5507a864b771"
      },
      "execution_count": 34,
      "outputs": [
        {
          "output_type": "stream",
          "name": "stdout",
          "text": [
            "4\n"
          ]
        }
      ]
    },
    {
      "cell_type": "code",
      "source": [
        "s=s=[85,79,93]\n",
        "for i in range(len(s)):\n",
        "  print(s[i])"
      ],
      "metadata": {
        "colab": {
          "base_uri": "https://localhost:8080/"
        },
        "id": "X4RHXnVR4mTA",
        "outputId": "d26cf86a-e72e-4b92-e1cb-f865adc373eb"
      },
      "execution_count": 35,
      "outputs": [
        {
          "output_type": "stream",
          "name": "stdout",
          "text": [
            "85\n",
            "79\n",
            "93\n"
          ]
        }
      ]
    },
    {
      "cell_type": "code",
      "source": [
        "s=['國文成績: 85分','數學成績: 79分','英文成績: 93分']\n",
        "for i in range(len(s)):\n",
        "  print(s[i])"
      ],
      "metadata": {
        "colab": {
          "base_uri": "https://localhost:8080/"
        },
        "id": "utw6e01P5ohj",
        "outputId": "4954949a-5fa3-4c9a-d1c2-f5d0106e25b9"
      },
      "execution_count": 36,
      "outputs": [
        {
          "output_type": "stream",
          "name": "stdout",
          "text": [
            "國文成績: 85分\n",
            "數學成績: 79分\n",
            "英文成績: 93分\n"
          ]
        }
      ]
    },
    {
      "cell_type": "code",
      "source": [
        "s=['編號: 1姓名: Tom','編號: 2姓名: Mary','編號: 3姓名: Tony']\n",
        "for i in range(len(s)):\n",
        "  print(s[i])"
      ],
      "metadata": {
        "colab": {
          "base_uri": "https://localhost:8080/"
        },
        "id": "qqjejwqI-o_p",
        "outputId": "e81f2d81-5a8d-423b-f1b2-76f1b90de227"
      },
      "execution_count": 79,
      "outputs": [
        {
          "output_type": "stream",
          "name": "stdout",
          "text": [
            "編號: 1姓名: Tom\n",
            "編號: 2姓名: Mary\n",
            "編號: 3姓名: Tony\n"
          ]
        }
      ]
    },
    {
      "cell_type": "markdown",
      "source": [
        "後面是嘗試\n",
        "\n"
      ],
      "metadata": {
        "id": "2eB0oxaD_yHR"
      }
    },
    {
      "cell_type": "code",
      "source": [
        "k=[[1,'Tom'],[2,'Mary'],[3,'Tony']]\n",
        "for x in range(len(k)):\n",
        "  print(k[x])"
      ],
      "metadata": {
        "colab": {
          "base_uri": "https://localhost:8080/"
        },
        "id": "iEjkazPP590Q",
        "outputId": "55ed51cb-6219-433b-e43e-45c76a4871c4"
      },
      "execution_count": 51,
      "outputs": [
        {
          "output_type": "stream",
          "name": "stdout",
          "text": [
            "[1, 'Tom']\n",
            "[2, 'Mary']\n",
            "[3, 'Tony']\n"
          ]
        }
      ]
    },
    {
      "cell_type": "code",
      "source": [
        "k=[1,2,3]\n",
        "\n"
      ],
      "metadata": {
        "id": "jXEcfp_I9Nm_"
      },
      "execution_count": 69,
      "outputs": []
    },
    {
      "cell_type": "code",
      "source": [
        "h=['Tom','Mary','Tony']\n"
      ],
      "metadata": {
        "id": "dYFFJa6a94ib"
      },
      "execution_count": 70,
      "outputs": []
    },
    {
      "cell_type": "code",
      "source": [
        "for x in range(len(k)):\n",
        "  for y in range(len(h)):\n",
        "    print(k[x])"
      ],
      "metadata": {
        "colab": {
          "base_uri": "https://localhost:8080/"
        },
        "id": "gym-umMB_MAY",
        "outputId": "190ffcf8-ccf1-4f4a-8fc7-5463ea07c9ab"
      },
      "execution_count": 77,
      "outputs": [
        {
          "output_type": "stream",
          "name": "stdout",
          "text": [
            "1\n",
            "1\n",
            "1\n",
            "2\n",
            "2\n",
            "2\n",
            "3\n",
            "3\n",
            "3\n"
          ]
        }
      ]
    }
  ]
}